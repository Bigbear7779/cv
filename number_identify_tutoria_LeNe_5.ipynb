{
  "nbformat": 4,
  "nbformat_minor": 0,
  "metadata": {
    "accelerator": "GPU",
    "colab": {
      "provenance": [],
      "toc_visible": true,
      "include_colab_link": true
    },
    "kernelspec": {
      "display_name": "Python 3",
      "language": "python",
      "name": "python3"
    },
    "language_info": {
      "codemirror_mode": {
        "name": "ipython",
        "version": 3
      },
      "file_extension": ".py",
      "mimetype": "text/x-python",
      "name": "python",
      "nbconvert_exporter": "python",
      "pygments_lexer": "ipython3",
      "version": "3.6.12"
    }
  },
  "cells": [
    {
      "cell_type": "markdown",
      "metadata": {
        "id": "view-in-github",
        "colab_type": "text"
      },
      "source": [
        "<a href=\"https://colab.research.google.com/github/Bigbear7779/cv/blob/main/number_identify_tutoria_LeNe_5.ipynb\" target=\"_parent\"><img src=\"https://colab.research.google.com/assets/colab-badge.svg\" alt=\"Open In Colab\"/></a>"
      ]
    },
    {
      "cell_type": "markdown",
      "metadata": {
        "id": "ECex6RWTb4Y4"
      },
      "source": [
        "Further Reading\n",
        "--------------\n",
        "- `torch.nn API <https://pytorch.org/docs/stable/nn.html>`_\n",
        "\n"
      ]
    },
    {
      "cell_type": "markdown",
      "source": [
        "# 新段落"
      ],
      "metadata": {
        "id": "iB8RdhnX2bLT"
      }
    },
    {
      "cell_type": "markdown",
      "source": [
        "# 新段落"
      ],
      "metadata": {
        "id": "CWH5eGEj2brn"
      }
    },
    {
      "cell_type": "code",
      "metadata": {
        "id": "_7qKwXaDb8g-"
      },
      "source": [
        "import torch\n",
        "import torchvision\n",
        "import torchvision.transforms as transforms"
      ],
      "execution_count": null,
      "outputs": []
    },
    {
      "cell_type": "code",
      "metadata": {
        "id": "QqY3jZFr9OET"
      },
      "source": [
        "n_epochs = 20 # 模型训练20轮\n",
        "log_interval = 210 #控制打印频率的，设n = 210*batch_size，即n张图后打印一次进度\n",
        "DEVICE = torch.device(\"cuda\" if torch.cuda.is_available() else \"cpu\") # 根据设备是否支持GPU来选择硬件 \n",
        "size = 32 # 对输入图片进行处理，拉伸为32*32的图片，这是为了复刻手写数字识别的神经网络，其输入为32*32的灰度图像\n",
        "learn_rate = 0.03 # 学习率\n",
        "momentum = 0.1  # 动量\n"
      ],
      "execution_count": null,
      "outputs": []
    },
    {
      "cell_type": "code",
      "metadata": {
        "colab": {
          "base_uri": "https://localhost:8080/"
        },
        "id": "Mk8jKGvVcc0o",
        "outputId": "a215f14e-f6b1-4a2b-a617-35112021404f"
      },
      "source": [
        "!wget www.di.ens.fr/~lelarge/MNIST.tar.gz\n",
        "!tar -zxvf MNIST.tar.gz\n",
        "\n",
        "from torchvision.datasets import MNIST\n",
        "\n",
        "\n",
        "transform = transforms.Compose(\n",
        "    [ transforms.Resize(size), transforms.ToTensor(),\n",
        "     transforms.Normalize((0.5), (0.5))])\n",
        "\n",
        "trainset = MNIST(root = './', train=True, download=True, transform=transform)\n",
        "trainloader = torch.utils.data.DataLoader(trainset, batch_size=64, shuffle=True, num_workers=2)\n",
        "\n",
        "testset = MNIST(root = './', train=False, download=True, transform=transform)\n",
        "testloader = torch.utils.data.DataLoader(testset, batch_size=1000, shuffle=True, num_workers=2)\n",
        "\n",
        "\n",
        "\n",
        "# classes = ('1', '2', '3', '4', '5', '6', '7', '8', '9', '0')\n"
      ],
      "execution_count": null,
      "outputs": [
        {
          "output_type": "stream",
          "text": [
            "--2021-07-07 12:51:17--  http://www.di.ens.fr/~lelarge/MNIST.tar.gz\n",
            "Resolving www.di.ens.fr (www.di.ens.fr)... 129.199.99.14\n",
            "Connecting to www.di.ens.fr (www.di.ens.fr)|129.199.99.14|:80... connected.\n",
            "HTTP request sent, awaiting response... 302 Found\n",
            "Location: https://www.di.ens.fr/~lelarge/MNIST.tar.gz [following]\n",
            "--2021-07-07 12:51:17--  https://www.di.ens.fr/~lelarge/MNIST.tar.gz\n",
            "Connecting to www.di.ens.fr (www.di.ens.fr)|129.199.99.14|:443... connected.\n",
            "HTTP request sent, awaiting response... 200 OK\n",
            "Length: unspecified [application/x-gzip]\n",
            "Saving to: ‘MNIST.tar.gz.1’\n",
            "\n",
            "MNIST.tar.gz.1          [        <=>         ]  33.20M  20.3MB/s    in 1.6s    \n",
            "\n",
            "2021-07-07 12:51:19 (20.3 MB/s) - ‘MNIST.tar.gz.1’ saved [34813078]\n",
            "\n",
            "MNIST/\n",
            "MNIST/raw/\n",
            "MNIST/raw/train-labels-idx1-ubyte\n",
            "MNIST/raw/t10k-labels-idx1-ubyte.gz\n",
            "MNIST/raw/t10k-labels-idx1-ubyte\n",
            "MNIST/raw/t10k-images-idx3-ubyte.gz\n",
            "MNIST/raw/train-images-idx3-ubyte\n",
            "MNIST/raw/train-labels-idx1-ubyte.gz\n",
            "MNIST/raw/t10k-images-idx3-ubyte\n",
            "MNIST/raw/train-images-idx3-ubyte.gz\n",
            "MNIST/processed/\n",
            "MNIST/processed/training.pt\n",
            "MNIST/processed/test.pt\n"
          ],
          "name": "stdout"
        }
      ]
    },
    {
      "cell_type": "code",
      "metadata": {
        "colab": {
          "base_uri": "https://localhost:8080/"
        },
        "id": "EdmYypSV4sBA",
        "outputId": "84e72809-855a-4107-8b20-a7d4e7d57af7"
      },
      "source": [
        "examples = enumerate(testloader)\n",
        "batch_idx, (example_data, example_targets) = next(examples)\n",
        "print(example_targets)\n",
        "print(example_data.shape)"
      ],
      "execution_count": null,
      "outputs": [
        {
          "output_type": "stream",
          "text": [
            "tensor([8, 8, 6, 0, 1, 0, 7, 7, 8, 1, 7, 4, 4, 3, 8, 8, 3, 4, 6, 2, 7, 6, 1, 7,\n",
            "        3, 9, 4, 8, 8, 1, 0, 5, 7, 9, 0, 0, 9, 5, 5, 4, 5, 6, 1, 8, 0, 7, 0, 1,\n",
            "        2, 7, 6, 8, 1, 1, 2, 3, 7, 9, 2, 3, 5, 4, 3, 8, 2, 9, 1, 9, 0, 9, 6, 4,\n",
            "        2, 3, 3, 6, 1, 2, 9, 7, 3, 4, 0, 9, 2, 7, 2, 4, 1, 2, 9, 7, 7, 3, 7, 4,\n",
            "        0, 0, 7, 2, 3, 1, 3, 2, 6, 9, 6, 8, 3, 1, 3, 4, 6, 4, 0, 2, 5, 6, 6, 1,\n",
            "        6, 3, 2, 0, 3, 9, 4, 8, 0, 7, 6, 9, 2, 6, 7, 7, 4, 5, 0, 7, 7, 5, 0, 0,\n",
            "        7, 8, 6, 6, 9, 9, 8, 1, 0, 1, 0, 3, 4, 1, 0, 3, 5, 6, 4, 8, 6, 2, 5, 4,\n",
            "        4, 0, 5, 8, 9, 9, 1, 9, 7, 3, 9, 3, 8, 9, 1, 6, 2, 6, 2, 0, 0, 1, 1, 4,\n",
            "        2, 2, 4, 2, 0, 9, 6, 1, 8, 0, 1, 4, 2, 9, 1, 3, 2, 6, 3, 2, 6, 0, 5, 4,\n",
            "        2, 3, 1, 6, 6, 9, 0, 1, 8, 8, 6, 5, 2, 5, 1, 8, 6, 4, 9, 7, 1, 5, 4, 3,\n",
            "        9, 6, 8, 8, 0, 6, 5, 2, 7, 7, 9, 4, 5, 9, 4, 5, 0, 6, 0, 0, 7, 6, 3, 3,\n",
            "        5, 8, 6, 3, 9, 2, 7, 5, 6, 9, 9, 6, 5, 8, 4, 3, 2, 7, 1, 3, 8, 1, 5, 9,\n",
            "        4, 0, 4, 9, 4, 2, 7, 4, 6, 1, 0, 1, 5, 8, 5, 7, 7, 2, 7, 9, 9, 2, 6, 1,\n",
            "        6, 0, 8, 8, 1, 7, 2, 8, 5, 7, 8, 4, 8, 9, 3, 4, 7, 0, 5, 9, 4, 5, 0, 9,\n",
            "        6, 4, 0, 5, 9, 9, 2, 1, 4, 5, 6, 0, 8, 0, 7, 3, 1, 0, 1, 9, 1, 4, 5, 0,\n",
            "        7, 1, 7, 6, 3, 2, 6, 1, 7, 2, 6, 6, 7, 0, 2, 6, 8, 2, 8, 4, 1, 6, 1, 7,\n",
            "        5, 0, 2, 5, 2, 4, 7, 5, 3, 1, 3, 4, 6, 6, 4, 9, 4, 1, 5, 7, 8, 3, 1, 5,\n",
            "        0, 0, 1, 8, 1, 9, 5, 1, 1, 8, 2, 1, 0, 4, 5, 1, 5, 6, 2, 0, 0, 7, 6, 9,\n",
            "        7, 4, 7, 0, 6, 8, 2, 8, 6, 1, 4, 5, 5, 4, 1, 2, 9, 2, 2, 1, 4, 1, 0, 2,\n",
            "        9, 4, 7, 2, 3, 0, 6, 0, 8, 9, 6, 1, 9, 8, 1, 8, 4, 0, 7, 1, 0, 6, 3, 1,\n",
            "        1, 9, 9, 7, 9, 1, 3, 4, 6, 2, 4, 9, 5, 3, 8, 1, 6, 9, 2, 6, 4, 8, 5, 7,\n",
            "        1, 6, 8, 3, 9, 8, 0, 1, 8, 5, 7, 1, 3, 7, 0, 3, 4, 8, 1, 2, 2, 4, 6, 7,\n",
            "        1, 0, 0, 1, 8, 5, 2, 4, 2, 4, 0, 1, 5, 6, 6, 1, 2, 7, 4, 8, 8, 6, 2, 5,\n",
            "        0, 3, 2, 0, 9, 0, 6, 9, 3, 9, 5, 5, 5, 7, 3, 1, 6, 6, 6, 6, 1, 4, 1, 3,\n",
            "        7, 2, 4, 7, 3, 8, 2, 0, 4, 3, 6, 1, 5, 9, 8, 1, 1, 6, 3, 6, 9, 2, 4, 1,\n",
            "        6, 3, 4, 3, 8, 2, 2, 6, 7, 2, 4, 7, 9, 3, 8, 1, 6, 8, 4, 0, 5, 5, 6, 1,\n",
            "        1, 9, 5, 9, 4, 5, 7, 2, 7, 3, 7, 3, 9, 5, 2, 0, 7, 5, 2, 0, 0, 8, 1, 2,\n",
            "        7, 1, 2, 0, 5, 5, 9, 9, 5, 0, 5, 0, 9, 7, 8, 9, 0, 4, 7, 9, 6, 3, 7, 7,\n",
            "        3, 6, 5, 1, 6, 7, 5, 2, 1, 8, 0, 5, 3, 3, 7, 9, 4, 0, 7, 1, 7, 1, 1, 8,\n",
            "        2, 1, 2, 9, 0, 6, 8, 9, 4, 5, 0, 2, 5, 1, 8, 1, 9, 8, 9, 0, 3, 7, 2, 1,\n",
            "        3, 0, 5, 0, 4, 6, 8, 3, 8, 5, 6, 2, 1, 5, 1, 6, 1, 5, 7, 4, 0, 7, 6, 5,\n",
            "        8, 0, 2, 7, 0, 3, 5, 4, 7, 4, 9, 3, 7, 4, 1, 6, 5, 9, 0, 1, 4, 7, 7, 5,\n",
            "        1, 4, 8, 1, 7, 1, 1, 3, 6, 7, 2, 8, 5, 6, 1, 5, 5, 2, 6, 0, 3, 1, 9, 4,\n",
            "        4, 7, 5, 6, 0, 6, 0, 9, 8, 8, 3, 8, 1, 0, 7, 1, 3, 6, 1, 5, 8, 0, 0, 4,\n",
            "        7, 1, 6, 2, 3, 1, 0, 1, 6, 1, 2, 9, 1, 4, 8, 1, 6, 6, 1, 6, 8, 1, 0, 2,\n",
            "        7, 3, 6, 1, 8, 1, 3, 3, 5, 3, 2, 1, 7, 7, 0, 4, 7, 0, 7, 6, 3, 0, 1, 9,\n",
            "        9, 3, 0, 8, 7, 1, 3, 4, 5, 2, 8, 0, 9, 8, 2, 4, 6, 7, 4, 8, 5, 8, 7, 4,\n",
            "        1, 1, 1, 1, 3, 7, 2, 4, 6, 6, 8, 9, 0, 9, 9, 3, 8, 4, 8, 9, 6, 4, 9, 0,\n",
            "        7, 5, 5, 2, 3, 0, 6, 6, 9, 4, 4, 2, 4, 1, 1, 8, 8, 2, 7, 0, 8, 0, 1, 9,\n",
            "        2, 9, 1, 9, 7, 7, 2, 5, 4, 2, 0, 0, 6, 7, 4, 0, 3, 6, 2, 1, 0, 3, 8, 9,\n",
            "        5, 0, 3, 1, 3, 5, 7, 0, 3, 9, 5, 3, 1, 6, 0, 9, 1, 0, 1, 0, 1, 9, 5, 5,\n",
            "        7, 2, 6, 8, 1, 0, 2, 1, 2, 1, 5, 3, 6, 5, 0, 2])\n",
            "torch.Size([1000, 1, 32, 32])\n"
          ],
          "name": "stdout"
        }
      ]
    },
    {
      "cell_type": "code",
      "metadata": {
        "colab": {
          "base_uri": "https://localhost:8080/",
          "height": 284
        },
        "id": "p8uo2YT6txMR",
        "outputId": "e2a953b8-62f3-42ee-d094-cbf4e68156a8"
      },
      "source": [
        "import matplotlib.pyplot as plt\n",
        "fig = plt.figure()\n",
        "for i in range(6):\n",
        "  plt.subplot(2,3,i+1)\n",
        "  plt.tight_layout()\n",
        "  plt.imshow(example_data[i][0], cmap='gray', interpolation='none')\n",
        "  plt.title(\"Ground Truth: {}\".format(example_targets[i]))\n",
        "  plt.xticks([])\n",
        "  plt.yticks([])\n",
        "plt.show()"
      ],
      "execution_count": null,
      "outputs": [
        {
          "output_type": "display_data",
          "data": {
            "image/png": "[encoded data removed]",
            "text/plain": [
              "<Figure size 432x288 with 6 Axes>"
            ]
          },
          "metadata": {
            "tags": []
          }
        }
      ]
    },
    {
      "cell_type": "code",
      "metadata": {
        "id": "fxL9YW_Fvjq-"
      },
      "source": [
        "import torch.nn as nn\n",
        "import torch.nn.functional as F\n",
        "import torch.optim as optim\n",
        "\n",
        "class Net(nn.Module):\n",
        "    def __init__(self):\n",
        "        super(Net, self).__init__()\n",
        "        self.conv1 = nn.Conv2d(1, 6, kernel_size=5, stride=1, padding=0, bias=True) # C1层使用单通道，6深度的卷积核，卷积核大小为5\n",
        "        self.max_pool_1 = nn.MaxPool2d(2)  # maxpooling从28降到14个像素点，故采用大小为2最大池化\n",
        "        self.conv2 = nn.Conv2d(6, 16, kernel_size=5, stride=1, padding=0, bias=True) # 第二次卷积\n",
        "        self.max_pool_2 = nn.MaxPool2d(2) # 第二次maxpooling\n",
        "        self.conv3 = nn.Conv2d(16, 120, kernel_size=5, stride=1, padding=0, bias=F) #第三次卷积，得到120张大小为1的“图像”\n",
        "        \n",
        "        self.fc1 = nn.Linear(120,84) # 全连接层\n",
        "        self.fc2 = nn.Linear(84,10) # 全连接层\n",
        "\n",
        "    def forward(self, x):\n",
        "        # print(\"0:\"+ str(x.size())) # 输出tensor大小\n",
        "        x = F.relu(self.conv1(x)) # 用激活函数处理卷积结果，激活函数结果再在下一步做maxpooling\n",
        "        x = self.max_pool_1(x)\n",
        "        # print(\"1:\"+ str(x.size()))\n",
        "        x = F.relu(self.conv2(x)) # 同上\n",
        "        x = self.max_pool_2(x)\n",
        "        # print(\"2:\"+ str(x.size()))\n",
        "        \n",
        "        \n",
        "        x = F.relu(self.conv3(x))\n",
        "        # print(\"3:\"+ str(x.size()))\n",
        "        # x = F.dropout(x, training=self.training)\n",
        "        x = x.view(-1, 120) # 把120张大小为1的图像当成一个长度为120的一维tensor\n",
        "        x = F.relu(self.fc1(x))\n",
        "        x = F.relu(self.fc2(x))\n",
        "        return F.log_softmax(x)\n"
      ],
      "execution_count": null,
      "outputs": []
    },
    {
      "cell_type": "code",
      "metadata": {
        "id": "VMwnVAEON4Kj"
      },
      "source": [
        "import torch.nn as nn\n",
        "import torch.nn.functional as F\n",
        "import torch.optim as optim\n",
        "\n",
        "class Net(nn.Module):\n",
        "    def __init__(self):\n",
        "        super(Net, self).__init__()\n",
        "        self.conv1 = nn.Conv2d(1, 6, kernel_size=5, stride=1, padding=0, bias=True) # C1层使用单通道，6深度的卷积核，卷积核大小为5\n",
        "        self.max_pool_1 = nn.MaxPool2d(2)  # maxpooling从28降到14个像素点，故采用大小为2最大池化\n",
        "        self.conv2 = nn.Conv2d(6, 16, kernel_size=5, stride=1, padding=0, bias=True) # 第二次卷积\n",
        "        self.max_pool_2 = nn.MaxPool2d(2) # 第二次maxpooling\n",
        "        self.conv3 = nn.Conv2d(16, 120, kernel_size=5, stride=1, padding=0, bias=F) #第三次卷积，得到120张大小为1的“图像”\n",
        "        \n",
        "        self.fc1 = nn.Linear(120,84) # 全连接层\n",
        "        self.fc2 = nn.Linear(84,10) # 全连接层\n",
        "\n",
        "    def forward(self, x):\n",
        "        # print(\"0:\"+ str(x.size())) # 输出tensor大小\n",
        "        x = F.relu(self.conv1(x)) # 用激活函数处理卷积结果，激活函数结果再在下一步做maxpooling\n",
        "        x = self.max_pool_1(x)\n",
        "        # print(\"1:\"+ str(x.size()))\n",
        "        x = F.relu(self.conv2(x)) # 同上\n",
        "        x = self.max_pool_2(x)\n",
        "        # print(\"2:\"+ str(x.size()))\n",
        "        \n",
        "        \n",
        "        x = F.relu(self.conv3(x))\n",
        "        # print(\"3:\"+ str(x.size()))\n",
        "        # x = F.dropout(x, training=self.training)\n",
        "        x = x.view(-1, 120) # 把120张大小为1的图像当成一个长度为120的一维tensor\n",
        "        x = F.relu(self.fc1(x))\n",
        "        x = F.relu(self.fc2(x))\n",
        "        return F.log_softmax(x)\n",
        "\n"
      ],
      "execution_count": null,
      "outputs": []
    },
    {
      "cell_type": "code",
      "metadata": {
        "id": "vfeyGDv3yo93"
      },
      "source": [
        "network = Net().to(DEVICE)\n",
        "optimizer = optim.SGD(network.parameters(), lr=learn_rate, momentum=momentum) # 学习率，动量"
      ],
      "execution_count": null,
      "outputs": []
    },
    {
      "cell_type": "code",
      "metadata": {
        "id": "iJjkw7fl6aXs"
      },
      "source": [
        "train_losses = []\n",
        "train_counter = []\n",
        "test_losses = []\n",
        "test_counter = [i*len(trainloader.dataset) for i in range(n_epochs + 1)] #test_losses为横坐标，test_losses为纵坐标\n",
        "test_acc = []"
      ],
      "execution_count": null,
      "outputs": []
    },
    {
      "cell_type": "code",
      "metadata": {
        "id": "Hktn5POm9WiR"
      },
      "source": [
        "def train(epoch, device):\n",
        "  network.train() # 调用上一步实例化对象network中的方法（该方法包内已经写好）\n",
        "  for batch_idx, (data, target) in enumerate(trainloader): # 按batch_size为集合对象进行逐个处理\n",
        "    data, target = data.to(device), target.to(device) # data是图片，target是标签，device是为了有GPU情况下使用GPU加速\n",
        "    optimizer.zero_grad() # 开始进行BP之前将梯度设置为零，因为PyTorch会在随后的BP中累积梯度\n",
        "    output = network(data) \n",
        "    loss = F.nll_loss(output, target) # 函数全称是negative log likelihood loss，下面博客有详细解释\n",
        "    # https://blog.csdn.net/weixin_38145317/article/details/103288032\n",
        "    loss.backward() # 根据误差进行BP\n",
        "    optimizer.step()\n",
        "    if batch_idx % log_interval == 0: # 控制输出频率\n",
        "      print('Train Epoch: {} [{}/{} ({:.0f}%)]\\tLoss: {:.6f}'.format(\n",
        "        epoch, batch_idx * len(data), len(trainloader.dataset),\n",
        "        100. * batch_idx / len(trainloader), loss.item()))\n",
        "      train_losses.append(loss.item()) # 记录并储存train loss\n",
        "      train_counter.append(\n",
        "        (batch_idx*64) + ((epoch-1)*len(trainloader.dataset)))\n"
      ],
      "execution_count": null,
      "outputs": []
    },
    {
      "cell_type": "code",
      "metadata": {
        "id": "QsbPuMR7dmU6"
      },
      "source": [
        "def test(device):\n",
        "  network.eval()\n",
        "  test_loss = 0\n",
        "  correct = 0\n",
        "  with torch.no_grad():\n",
        "    for data, target in testloader:\n",
        "      data, target = data.to(device), target.to(device)\n",
        "      output = network(data)\n",
        "      test_loss += F.nll_loss(output, target, size_average=False).item()\n",
        "      pred = output.data.max(1, keepdim=True)[1] # 找到概率最大的下标，为预测类别\n",
        "      correct += pred.eq(target.data.view_as(pred)).sum() # x下面都是记录数据用于绘图，不再解释\n",
        "  test_loss /= len(testloader.dataset)\n",
        "  test_losses.append(test_loss)\n",
        "  print('\\nTest set: Avg. loss: {:.4f}, Accuracy: {}/{} ({:.0f}%)\\n'.format(\n",
        "    test_loss, correct, len(testloader.dataset),\n",
        "    100. * correct / len(testloader.dataset)))\n",
        "  test_acc.append(1. * correct / len(testloader.dataset))\n",
        "    \n"
      ],
      "execution_count": null,
      "outputs": []
    },
    {
      "cell_type": "code",
      "metadata": {
        "colab": {
          "base_uri": "https://localhost:8080/",
          "height": 1000
        },
        "id": "YXX0nzl3tLOT",
        "outputId": "88f48d95-1d0a-4c85-9254-1852fc10c548"
      },
      "source": [
        "test(DEVICE)\n",
        "for epoch in range(1, n_epochs + 1):\n",
        "  train(epoch, DEVICE)\n",
        "  test(DEVICE)\n",
        "import matplotlib.pyplot as plt\n",
        "fig = plt.figure()\n",
        "plt.plot(train_counter, train_losses, color='blue') # train_losses变化曲线\n",
        "plt.plot(test_counter, test_acc, color='yellow') # test集accuracy变化曲线\n",
        "plt.scatter(test_counter, test_losses, color='red') # test集loss散点图\n",
        "plt.legend(['Train Loss', 'Test accuracy'], loc='upper right')\n",
        "plt.xlabel('number of training examples seen')\n",
        "plt.ylabel('negative log likelihood loss and test accuarcy')\n",
        "plt.show()\n"
      ],
      "execution_count": null,
      "outputs": [
        {
          "output_type": "stream",
          "text": [
            "/usr/local/lib/python3.7/dist-packages/ipykernel_launcher.py:33: UserWarning: Implicit dimension choice for log_softmax has been deprecated. Change the call to include dim=X as an argument.\n",
            "/usr/local/lib/python3.7/dist-packages/torch/nn/_reduction.py:42: UserWarning: size_average and reduce args will be deprecated, please use reduction='sum' instead.\n",
            "  warnings.warn(warning.format(ret))\n"
          ],
          "name": "stderr"
        },
        {
          "output_type": "stream",
          "text": [
            "\n",
            "Test set: Avg. loss: 2.3032, Accuracy: 982/10000 (10%)\n",
            "\n",
            "Train Epoch: 1 [0/60000 (0%)]\tLoss: 2.305624\n",
            "Train Epoch: 1 [13440/60000 (22%)]\tLoss: 2.244073\n",
            "Train Epoch: 1 [26880/60000 (45%)]\tLoss: 0.813500\n",
            "Train Epoch: 1 [40320/60000 (67%)]\tLoss: 0.863362\n",
            "Train Epoch: 1 [53760/60000 (90%)]\tLoss: 0.522930\n",
            "\n",
            "Test set: Avg. loss: 0.3541, Accuracy: 8717/10000 (87%)\n",
            "\n",
            "Train Epoch: 2 [0/60000 (0%)]\tLoss: 0.369093\n",
            "Train Epoch: 2 [13440/60000 (22%)]\tLoss: 0.385205\n",
            "Train Epoch: 2 [26880/60000 (45%)]\tLoss: 0.190984\n",
            "Train Epoch: 2 [40320/60000 (67%)]\tLoss: 0.350102\n",
            "Train Epoch: 2 [53760/60000 (90%)]\tLoss: 0.514698\n",
            "\n",
            "Test set: Avg. loss: 0.2851, Accuracy: 8906/10000 (89%)\n",
            "\n",
            "Train Epoch: 3 [0/60000 (0%)]\tLoss: 0.141563\n",
            "Train Epoch: 3 [13440/60000 (22%)]\tLoss: 0.215936\n",
            "Train Epoch: 3 [26880/60000 (45%)]\tLoss: 0.302702\n",
            "Train Epoch: 3 [40320/60000 (67%)]\tLoss: 0.296959\n",
            "Train Epoch: 3 [53760/60000 (90%)]\tLoss: 0.238993\n",
            "\n",
            "Test set: Avg. loss: 0.2607, Accuracy: 8961/10000 (90%)\n",
            "\n",
            "Train Epoch: 4 [0/60000 (0%)]\tLoss: 0.216562\n",
            "Train Epoch: 4 [13440/60000 (22%)]\tLoss: 0.118447\n",
            "Train Epoch: 4 [26880/60000 (45%)]\tLoss: 0.264368\n",
            "Train Epoch: 4 [40320/60000 (67%)]\tLoss: 0.209753\n",
            "Train Epoch: 4 [53760/60000 (90%)]\tLoss: 0.307562\n",
            "\n",
            "Test set: Avg. loss: 0.2516, Accuracy: 8988/10000 (90%)\n",
            "\n",
            "Train Epoch: 5 [0/60000 (0%)]\tLoss: 0.272972\n",
            "Train Epoch: 5 [13440/60000 (22%)]\tLoss: 0.313297\n",
            "Train Epoch: 5 [26880/60000 (45%)]\tLoss: 0.147540\n",
            "Train Epoch: 5 [40320/60000 (67%)]\tLoss: 0.224534\n",
            "Train Epoch: 5 [53760/60000 (90%)]\tLoss: 0.158693\n",
            "\n",
            "Test set: Avg. loss: 0.2635, Accuracy: 8954/10000 (90%)\n",
            "\n",
            "Train Epoch: 6 [0/60000 (0%)]\tLoss: 0.084651\n",
            "Train Epoch: 6 [13440/60000 (22%)]\tLoss: 0.246703\n",
            "Train Epoch: 6 [26880/60000 (45%)]\tLoss: 0.268270\n",
            "Train Epoch: 6 [40320/60000 (67%)]\tLoss: 0.216634\n",
            "Train Epoch: 6 [53760/60000 (90%)]\tLoss: 0.074529\n",
            "\n",
            "Test set: Avg. loss: 0.2493, Accuracy: 8992/10000 (90%)\n",
            "\n",
            "Train Epoch: 7 [0/60000 (0%)]\tLoss: 0.184228\n",
            "Train Epoch: 7 [13440/60000 (22%)]\tLoss: 0.207618\n",
            "Train Epoch: 7 [26880/60000 (45%)]\tLoss: 0.003941\n",
            "Train Epoch: 7 [40320/60000 (67%)]\tLoss: 0.184958\n",
            "Train Epoch: 7 [53760/60000 (90%)]\tLoss: 0.187236\n",
            "\n",
            "Test set: Avg. loss: 0.2413, Accuracy: 9017/10000 (90%)\n",
            "\n",
            "Train Epoch: 8 [0/60000 (0%)]\tLoss: 0.204498\n",
            "Train Epoch: 8 [13440/60000 (22%)]\tLoss: 0.360176\n",
            "Train Epoch: 8 [26880/60000 (45%)]\tLoss: 0.190168\n",
            "Train Epoch: 8 [40320/60000 (67%)]\tLoss: 0.178459\n",
            "Train Epoch: 8 [53760/60000 (90%)]\tLoss: 0.259558\n",
            "\n",
            "Test set: Avg. loss: 0.2510, Accuracy: 8985/10000 (90%)\n",
            "\n",
            "Train Epoch: 9 [0/60000 (0%)]\tLoss: 0.236146\n",
            "Train Epoch: 9 [13440/60000 (22%)]\tLoss: 0.157453\n",
            "Train Epoch: 9 [26880/60000 (45%)]\tLoss: 0.261060\n",
            "Train Epoch: 9 [40320/60000 (67%)]\tLoss: 0.235520\n",
            "Train Epoch: 9 [53760/60000 (90%)]\tLoss: 0.187632\n",
            "\n",
            "Test set: Avg. loss: 0.2432, Accuracy: 9004/10000 (90%)\n",
            "\n",
            "Train Epoch: 10 [0/60000 (0%)]\tLoss: 0.161971\n",
            "Train Epoch: 10 [13440/60000 (22%)]\tLoss: 0.294073\n",
            "Train Epoch: 10 [26880/60000 (45%)]\tLoss: 0.293363\n",
            "Train Epoch: 10 [40320/60000 (67%)]\tLoss: 0.132155\n",
            "Train Epoch: 10 [53760/60000 (90%)]\tLoss: 0.165747\n",
            "\n",
            "Test set: Avg. loss: 0.2357, Accuracy: 9025/10000 (90%)\n",
            "\n",
            "Train Epoch: 11 [0/60000 (0%)]\tLoss: 0.164334\n",
            "Train Epoch: 11 [13440/60000 (22%)]\tLoss: 0.221889\n",
            "Train Epoch: 11 [26880/60000 (45%)]\tLoss: 0.229266\n",
            "Train Epoch: 11 [40320/60000 (67%)]\tLoss: 0.364758\n",
            "Train Epoch: 11 [53760/60000 (90%)]\tLoss: 0.163855\n",
            "\n",
            "Test set: Avg. loss: 0.2366, Accuracy: 9024/10000 (90%)\n",
            "\n",
            "Train Epoch: 12 [0/60000 (0%)]\tLoss: 0.183694\n",
            "Train Epoch: 12 [13440/60000 (22%)]\tLoss: 0.258648\n",
            "Train Epoch: 12 [26880/60000 (45%)]\tLoss: 0.356158\n",
            "Train Epoch: 12 [40320/60000 (67%)]\tLoss: 0.195379\n",
            "Train Epoch: 12 [53760/60000 (90%)]\tLoss: 0.355305\n",
            "\n",
            "Test set: Avg. loss: 0.2480, Accuracy: 9003/10000 (90%)\n",
            "\n",
            "Train Epoch: 13 [0/60000 (0%)]\tLoss: 0.144631\n",
            "Train Epoch: 13 [13440/60000 (22%)]\tLoss: 0.344088\n",
            "Train Epoch: 13 [26880/60000 (45%)]\tLoss: 0.278366\n",
            "Train Epoch: 13 [40320/60000 (67%)]\tLoss: 0.312417\n",
            "Train Epoch: 13 [53760/60000 (90%)]\tLoss: 0.150733\n",
            "\n",
            "Test set: Avg. loss: 0.2378, Accuracy: 9022/10000 (90%)\n",
            "\n",
            "Train Epoch: 14 [0/60000 (0%)]\tLoss: 0.112813\n",
            "Train Epoch: 14 [13440/60000 (22%)]\tLoss: 0.228384\n",
            "Train Epoch: 14 [26880/60000 (45%)]\tLoss: 0.191568\n",
            "Train Epoch: 14 [40320/60000 (67%)]\tLoss: 0.152936\n",
            "Train Epoch: 14 [53760/60000 (90%)]\tLoss: 0.072708\n",
            "\n",
            "Test set: Avg. loss: 0.2390, Accuracy: 9025/10000 (90%)\n",
            "\n",
            "Train Epoch: 15 [0/60000 (0%)]\tLoss: 0.469648\n",
            "Train Epoch: 15 [13440/60000 (22%)]\tLoss: 0.072247\n",
            "Train Epoch: 15 [26880/60000 (45%)]\tLoss: 0.073193\n",
            "Train Epoch: 15 [40320/60000 (67%)]\tLoss: 0.074388\n",
            "Train Epoch: 15 [53760/60000 (90%)]\tLoss: 0.144537\n",
            "\n",
            "Test set: Avg. loss: 0.2349, Accuracy: 9041/10000 (90%)\n",
            "\n",
            "Train Epoch: 16 [0/60000 (0%)]\tLoss: 0.292586\n",
            "Train Epoch: 16 [13440/60000 (22%)]\tLoss: 0.111305\n",
            "Train Epoch: 16 [26880/60000 (45%)]\tLoss: 0.182926\n",
            "Train Epoch: 16 [40320/60000 (67%)]\tLoss: 0.427852\n",
            "Train Epoch: 16 [53760/60000 (90%)]\tLoss: 0.294730\n",
            "\n",
            "Test set: Avg. loss: 0.2403, Accuracy: 9027/10000 (90%)\n",
            "\n",
            "Train Epoch: 17 [0/60000 (0%)]\tLoss: 0.288374\n",
            "Train Epoch: 17 [13440/60000 (22%)]\tLoss: 0.144817\n",
            "Train Epoch: 17 [26880/60000 (45%)]\tLoss: 0.116616\n",
            "Train Epoch: 17 [40320/60000 (67%)]\tLoss: 0.342043\n",
            "Train Epoch: 17 [53760/60000 (90%)]\tLoss: 0.253787\n",
            "\n",
            "Test set: Avg. loss: 0.2378, Accuracy: 9032/10000 (90%)\n",
            "\n",
            "Train Epoch: 18 [0/60000 (0%)]\tLoss: 0.144320\n",
            "Train Epoch: 18 [13440/60000 (22%)]\tLoss: 0.253670\n",
            "Train Epoch: 18 [26880/60000 (45%)]\tLoss: 0.254719\n",
            "Train Epoch: 18 [40320/60000 (67%)]\tLoss: 0.108402\n",
            "Train Epoch: 18 [53760/60000 (90%)]\tLoss: 0.200424\n",
            "\n",
            "Test set: Avg. loss: 0.2362, Accuracy: 9025/10000 (90%)\n",
            "\n",
            "Train Epoch: 19 [0/60000 (0%)]\tLoss: 0.252647\n",
            "Train Epoch: 19 [13440/60000 (22%)]\tLoss: 0.216399\n",
            "Train Epoch: 19 [26880/60000 (45%)]\tLoss: 0.183222\n",
            "Train Epoch: 19 [40320/60000 (67%)]\tLoss: 0.296965\n",
            "Train Epoch: 19 [53760/60000 (90%)]\tLoss: 0.397983\n",
            "\n",
            "Test set: Avg. loss: 0.2450, Accuracy: 8999/10000 (90%)\n",
            "\n",
            "Train Epoch: 20 [0/60000 (0%)]\tLoss: 0.111268\n",
            "Train Epoch: 20 [13440/60000 (22%)]\tLoss: 0.416508\n",
            "Train Epoch: 20 [26880/60000 (45%)]\tLoss: 0.291839\n",
            "Train Epoch: 20 [40320/60000 (67%)]\tLoss: 0.291077\n",
            "Train Epoch: 20 [53760/60000 (90%)]\tLoss: 0.216494\n",
            "\n",
            "Test set: Avg. loss: 0.2358, Accuracy: 9038/10000 (90%)\n",
            "\n"
          ],
          "name": "stdout"
        },
        {
          "output_type": "display_data",
          "data": {
            "image/png": "[encoded data removed]",
            "text/plain": [
              "<Figure size 432x288 with 1 Axes>"
            ]
          },
          "metadata": {
            "tags": [],
            "needs_background": "light"
          }
        }
      ]
    },
    {
      "cell_type": "code",
      "metadata": {
        "id": "fcYJoVW8aQr8"
      },
      "source": [
        "b=torch.Tensor([[7,8,9],[10,11,12]])"
      ],
      "execution_count": null,
      "outputs": []
    },
    {
      "cell_type": "code",
      "metadata": {
        "colab": {
          "base_uri": "https://localhost:8080/"
        },
        "id": "np-bX5RdaTdI",
        "outputId": "2c047a5b-741e-4122-8a2b-ffc320072d80"
      },
      "source": [
        "b.size()"
      ],
      "execution_count": null,
      "outputs": [
        {
          "output_type": "execute_result",
          "data": {
            "text/plain": [
              "torch.Size([2, 3])"
            ]
          },
          "metadata": {
            "tags": []
          },
          "execution_count": 26
        }
      ]
    },
    {
      "cell_type": "code",
      "metadata": {
        "id": "8OmZfR0nWNsW"
      },
      "source": [
        "# examples = enumerate(testloader)\n",
        "# batch_idx, (example_data, example_targets) = next(examples)\n",
        "# with torch.no_grad():\n",
        "#   example_data, example_targets = example_data.to(DEVICE), example_targets.to(DEVICE)\n",
        "#   output = network(example_data)\n",
        "# fig = plt.figure()\n",
        "# for i in range(6):\n",
        "#   plt.subplot(2,3,i+1)\n",
        "#   plt.tight_layout()\n",
        "#   plt.imshow(example_data[i][0].cpu().clone().numpy(), cmap='gray', interpolation='none')\n",
        "#   plt.title(\"Prediction: {}\".format(\n",
        "#     output.data.max(1, keepdim=True)[1][i].item()))\n",
        "#   plt.xticks([])\n",
        "#   plt.yticks([])\n",
        "# plt.show()"
      ],
      "execution_count": null,
      "outputs": []
    },
    {
      "cell_type": "code",
      "metadata": {
        "colab": {
          "base_uri": "https://localhost:8080/",
          "height": 479
        },
        "id": "7wjvYTrbWTbp",
        "outputId": "1e0baf88-5bde-400d-e2fc-2d70d8eb6dad"
      },
      "source": [
        "# lrs = [a/10 for a in range(1, 9, 5)]\n",
        "# momentums = [a/10 for a in range(1, 9, 5)]\n",
        "# import matplotlib.pyplot as plt\n",
        "# fig = plt.figure()\n",
        "# test_acc = 0\n",
        "# legent = []\n",
        "# j = 0\n",
        "# for lr in lrs:\n",
        "#   for momentum in momentums:\n",
        "#     legent.append(str(lr) + \",\" + str(momentum))\n",
        "#     network = Net().to(DEVICE)\n",
        "#     optimizer = optim.SGD(network.parameters(), lr=lr, momentum=momentum) # 学习率，动量\n",
        "#     for epoch in range(1, n_epochs + 1):\n",
        "#       train(epoch, DEVICE)\n",
        "#       test(DEVICE)\n",
        "    \n",
        "#     test(DEVICE)\n",
        "#     test_counter = [i for i in range(n_epochs + 1)]\n",
        "#     plt.legend(['Train Loss', 'Test Loss'], loc='upper right')\n",
        "#     plt.plot(j, test_acc, 'o') # test集accuracy变化散点图\n",
        "#     plt.xlabel('number of training examples seen')\n",
        "#     plt.ylabel('negative log likelihood loss')\n",
        "    \n",
        "\n",
        "   \n",
        "#     test_acc = 0\n",
        "#     test_counter = [i*len(trainloader.dataset) for i in range(n_epochs + 1)]\n",
        "# plt.legend(legent, loc='upper left')\n",
        "# plt.xlabel('number of training examples seen')\n",
        "# plt.ylabel('negative log likelihood loss')    \n",
        "# plt.show()"
      ],
      "execution_count": null,
      "outputs": [
        {
          "output_type": "stream",
          "text": [
            "/usr/local/lib/python3.7/dist-packages/ipykernel_launcher.py:33: UserWarning: Implicit dimension choice for log_softmax has been deprecated. Change the call to include dim=X as an argument.\n"
          ],
          "name": "stderr"
        },
        {
          "output_type": "stream",
          "text": [
            "Train Epoch: 1 [0/60000 (0%)]\tLoss: 2.299317\n",
            "Train Epoch: 1 [13440/60000 (22%)]\tLoss: 0.718279\n"
          ],
          "name": "stdout"
        },
        {
          "output_type": "error",
          "ename": "KeyboardInterrupt",
          "evalue": "ignored",
          "traceback": [
            "\u001b[0;31m---------------------------------------------------------------------------\u001b[0m",
            "\u001b[0;31mKeyboardInterrupt\u001b[0m                         Traceback (most recent call last)",
            "\u001b[0;32m<ipython-input-28-0644701f8a26>\u001b[0m in \u001b[0;36m<module>\u001b[0;34m()\u001b[0m\n\u001b[1;32m     12\u001b[0m     \u001b[0moptimizer\u001b[0m \u001b[0;34m=\u001b[0m \u001b[0moptim\u001b[0m\u001b[0;34m.\u001b[0m\u001b[0mSGD\u001b[0m\u001b[0;34m(\u001b[0m\u001b[0mnetwork\u001b[0m\u001b[0;34m.\u001b[0m\u001b[0mparameters\u001b[0m\u001b[0;34m(\u001b[0m\u001b[0;34m)\u001b[0m\u001b[0;34m,\u001b[0m \u001b[0mlr\u001b[0m\u001b[0;34m=\u001b[0m\u001b[0mlr\u001b[0m\u001b[0;34m,\u001b[0m \u001b[0mmomentum\u001b[0m\u001b[0;34m=\u001b[0m\u001b[0mmomentum\u001b[0m\u001b[0;34m)\u001b[0m \u001b[0;31m# 学习率，动量\u001b[0m\u001b[0;34m\u001b[0m\u001b[0;34m\u001b[0m\u001b[0m\n\u001b[1;32m     13\u001b[0m     \u001b[0;32mfor\u001b[0m \u001b[0mepoch\u001b[0m \u001b[0;32min\u001b[0m \u001b[0mrange\u001b[0m\u001b[0;34m(\u001b[0m\u001b[0;36m1\u001b[0m\u001b[0;34m,\u001b[0m \u001b[0mn_epochs\u001b[0m \u001b[0;34m+\u001b[0m \u001b[0;36m1\u001b[0m\u001b[0;34m)\u001b[0m\u001b[0;34m:\u001b[0m\u001b[0;34m\u001b[0m\u001b[0;34m\u001b[0m\u001b[0m\n\u001b[0;32m---> 14\u001b[0;31m       \u001b[0mtrain\u001b[0m\u001b[0;34m(\u001b[0m\u001b[0mepoch\u001b[0m\u001b[0;34m,\u001b[0m \u001b[0mDEVICE\u001b[0m\u001b[0;34m)\u001b[0m\u001b[0;34m\u001b[0m\u001b[0;34m\u001b[0m\u001b[0m\n\u001b[0m\u001b[1;32m     15\u001b[0m       \u001b[0mtest\u001b[0m\u001b[0;34m(\u001b[0m\u001b[0mDEVICE\u001b[0m\u001b[0;34m)\u001b[0m\u001b[0;34m\u001b[0m\u001b[0;34m\u001b[0m\u001b[0m\n\u001b[1;32m     16\u001b[0m \u001b[0;34m\u001b[0m\u001b[0m\n",
            "\u001b[0;32m<ipython-input-22-6984ed95bd8b>\u001b[0m in \u001b[0;36mtrain\u001b[0;34m(epoch, device)\u001b[0m\n\u001b[1;32m      7\u001b[0m     \u001b[0mloss\u001b[0m \u001b[0;34m=\u001b[0m \u001b[0mF\u001b[0m\u001b[0;34m.\u001b[0m\u001b[0mnll_loss\u001b[0m\u001b[0;34m(\u001b[0m\u001b[0moutput\u001b[0m\u001b[0;34m,\u001b[0m \u001b[0mtarget\u001b[0m\u001b[0;34m)\u001b[0m \u001b[0;31m# 函数全称是negative log likelihood loss，下面博客有详细解释\u001b[0m\u001b[0;34m\u001b[0m\u001b[0;34m\u001b[0m\u001b[0m\n\u001b[1;32m      8\u001b[0m     \u001b[0;31m# https://blog.csdn.net/weixin_38145317/article/details/103288032\u001b[0m\u001b[0;34m\u001b[0m\u001b[0;34m\u001b[0m\u001b[0;34m\u001b[0m\u001b[0m\n\u001b[0;32m----> 9\u001b[0;31m     \u001b[0mloss\u001b[0m\u001b[0;34m.\u001b[0m\u001b[0mbackward\u001b[0m\u001b[0;34m(\u001b[0m\u001b[0;34m)\u001b[0m \u001b[0;31m# 根据误差进行BP\u001b[0m\u001b[0;34m\u001b[0m\u001b[0;34m\u001b[0m\u001b[0m\n\u001b[0m\u001b[1;32m     10\u001b[0m     \u001b[0moptimizer\u001b[0m\u001b[0;34m.\u001b[0m\u001b[0mstep\u001b[0m\u001b[0;34m(\u001b[0m\u001b[0;34m)\u001b[0m\u001b[0;34m\u001b[0m\u001b[0;34m\u001b[0m\u001b[0m\n\u001b[1;32m     11\u001b[0m     \u001b[0;32mif\u001b[0m \u001b[0mbatch_idx\u001b[0m \u001b[0;34m%\u001b[0m \u001b[0mlog_interval\u001b[0m \u001b[0;34m==\u001b[0m \u001b[0;36m0\u001b[0m\u001b[0;34m:\u001b[0m \u001b[0;31m# 控制输出频率\u001b[0m\u001b[0;34m\u001b[0m\u001b[0;34m\u001b[0m\u001b[0m\n",
            "\u001b[0;32m/usr/local/lib/python3.7/dist-packages/torch/_tensor.py\u001b[0m in \u001b[0;36mbackward\u001b[0;34m(self, gradient, retain_graph, create_graph, inputs)\u001b[0m\n\u001b[1;32m    253\u001b[0m                 \u001b[0mcreate_graph\u001b[0m\u001b[0;34m=\u001b[0m\u001b[0mcreate_graph\u001b[0m\u001b[0;34m,\u001b[0m\u001b[0;34m\u001b[0m\u001b[0;34m\u001b[0m\u001b[0m\n\u001b[1;32m    254\u001b[0m                 inputs=inputs)\n\u001b[0;32m--> 255\u001b[0;31m         \u001b[0mtorch\u001b[0m\u001b[0;34m.\u001b[0m\u001b[0mautograd\u001b[0m\u001b[0;34m.\u001b[0m\u001b[0mbackward\u001b[0m\u001b[0;34m(\u001b[0m\u001b[0mself\u001b[0m\u001b[0;34m,\u001b[0m \u001b[0mgradient\u001b[0m\u001b[0;34m,\u001b[0m \u001b[0mretain_graph\u001b[0m\u001b[0;34m,\u001b[0m \u001b[0mcreate_graph\u001b[0m\u001b[0;34m,\u001b[0m \u001b[0minputs\u001b[0m\u001b[0;34m=\u001b[0m\u001b[0minputs\u001b[0m\u001b[0;34m)\u001b[0m\u001b[0;34m\u001b[0m\u001b[0;34m\u001b[0m\u001b[0m\n\u001b[0m\u001b[1;32m    256\u001b[0m \u001b[0;34m\u001b[0m\u001b[0m\n\u001b[1;32m    257\u001b[0m     \u001b[0;32mdef\u001b[0m \u001b[0mregister_hook\u001b[0m\u001b[0;34m(\u001b[0m\u001b[0mself\u001b[0m\u001b[0;34m,\u001b[0m \u001b[0mhook\u001b[0m\u001b[0;34m)\u001b[0m\u001b[0;34m:\u001b[0m\u001b[0;34m\u001b[0m\u001b[0;34m\u001b[0m\u001b[0m\n",
            "\u001b[0;32m/usr/local/lib/python3.7/dist-packages/torch/autograd/__init__.py\u001b[0m in \u001b[0;36mbackward\u001b[0;34m(tensors, grad_tensors, retain_graph, create_graph, grad_variables, inputs)\u001b[0m\n\u001b[1;32m    147\u001b[0m     Variable._execution_engine.run_backward(\n\u001b[1;32m    148\u001b[0m         \u001b[0mtensors\u001b[0m\u001b[0;34m,\u001b[0m \u001b[0mgrad_tensors_\u001b[0m\u001b[0;34m,\u001b[0m \u001b[0mretain_graph\u001b[0m\u001b[0;34m,\u001b[0m \u001b[0mcreate_graph\u001b[0m\u001b[0;34m,\u001b[0m \u001b[0minputs\u001b[0m\u001b[0;34m,\u001b[0m\u001b[0;34m\u001b[0m\u001b[0;34m\u001b[0m\u001b[0m\n\u001b[0;32m--> 149\u001b[0;31m         allow_unreachable=True, accumulate_grad=True)  # allow_unreachable flag\n\u001b[0m\u001b[1;32m    150\u001b[0m \u001b[0;34m\u001b[0m\u001b[0m\n\u001b[1;32m    151\u001b[0m \u001b[0;34m\u001b[0m\u001b[0m\n",
            "\u001b[0;31mKeyboardInterrupt\u001b[0m: "
          ]
        },
        {
          "output_type": "display_data",
          "data": {
            "text/plain": [
              "<Figure size 432x288 with 0 Axes>"
            ]
          },
          "metadata": {
            "tags": []
          }
        }
      ]
    }
  ]
}